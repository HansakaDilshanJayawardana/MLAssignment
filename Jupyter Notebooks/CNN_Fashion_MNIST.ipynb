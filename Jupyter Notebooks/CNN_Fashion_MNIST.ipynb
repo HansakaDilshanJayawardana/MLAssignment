{
  "nbformat": 4,
  "nbformat_minor": 0,
  "metadata": {
    "colab": {
      "provenance": [],
      "authorship_tag": "ABX9TyOGhpMF3ZrK6nhG/45KnSGE",
      "include_colab_link": true
    },
    "kernelspec": {
      "name": "python3",
      "display_name": "Python 3"
    },
    "language_info": {
      "name": "python"
    }
  },
  "cells": [
    {
      "cell_type": "markdown",
      "metadata": {
        "id": "view-in-github",
        "colab_type": "text"
      },
      "source": [
        "<a href=\"https://colab.research.google.com/github/HansakaDilshanJayawardana/MLAssignment/blob/model%2FCNN-Model/Jupyter%20Notebooks/CNN_Fashion_MNIST.ipynb\" target=\"_parent\"><img src=\"https://colab.research.google.com/assets/colab-badge.svg\" alt=\"Open In Colab\"/></a>"
      ]
    },
    {
      "cell_type": "markdown",
      "source": [
        "# **CNN using the Fashion MNIST Dataset**"
      ],
      "metadata": {
        "id": "agqX10rEJG_C"
      }
    },
    {
      "cell_type": "code",
      "source": [
        "# To store and process in a dataframe\n",
        "import pandas as pd\n",
        "# Advancec ploting\n",
        "import seaborn as sns\n",
        "# For ploting graphs\n",
        "import matplotlib.pyplot as plt\n",
        "import tensorflow as tf\n",
        "# For numerical analysis\n",
        "import numpy as np\n",
        "from numpy import argmax, array_equal\n",
        "# Layers\n",
        "from keras.layers import Dense, Input, Conv2D, LSTM, MaxPool2D, UpSampling2D, Dropout, Flatten, MaxPooling2D\n",
        "# Train test split\n",
        "from sklearn.model_selection import train_test_split\n",
        "# Stop the training when there is no improvement in the loss for three consecutive epochs\n",
        "from keras.callbacks import EarlyStopping\n",
        "# Model performance metrics\n",
        "from sklearn.metrics import classification_report\n",
        "# Utility functions\n",
        "from tensorflow.keras.utils import to_categorical\n",
        "# Sequential model\n",
        "from tensorflow.keras.models import Sequential, Model\n",
        "from imgaug import augmenters\n",
        "from random import randint"
      ],
      "metadata": {
        "id": "3N3F-eU4JLuq"
      },
      "execution_count": 1,
      "outputs": []
    }
  ]
}